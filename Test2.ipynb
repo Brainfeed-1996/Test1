{
 "cells": [
  {
   "cell_type": "code",
   "execution_count": 4,
   "id": "28aa6fa6",
   "metadata": {},
   "outputs": [
    {
     "name": "stdout",
     "output_type": "stream",
     "text": [
      "Quel est ton nom : Olivier\n"
     ]
    }
   ],
   "source": [
    "nom=input(\"Quel est ton nom : \")"
   ]
  },
  {
   "cell_type": "code",
   "execution_count": 5,
   "id": "af3cba90",
   "metadata": {},
   "outputs": [
    {
     "data": {
      "text/plain": [
       "'Olivier'"
      ]
     },
     "execution_count": 5,
     "metadata": {},
     "output_type": "execute_result"
    }
   ],
   "source": [
    "nom"
   ]
  },
  {
   "cell_type": "code",
   "execution_count": 6,
   "id": "db7d0ce2",
   "metadata": {},
   "outputs": [
    {
     "name": "stdout",
     "output_type": "stream",
     "text": [
      "Quel est ton nom d'utilisateur: Brainfeed\n",
      "Quel est ton mot de passe: brainfeed\n",
      "Bonjour  Brainfeed  Votre mot de passe n'est pas sécurisé pour le moment. Je peux le lire, c'est :  brainfeed\n"
     ]
    }
   ],
   "source": [
    "username = input(\"Quel est ton nom d'utilisateur: \")\n",
    "password = input(\"Quel est ton mot de passe: \")\n",
    "print(\"Bonjour \",username, \" Votre mot de passe n'est pas sécurisé pour le moment. Je peux le lire, c'est : \", password)"
   ]
  },
  {
   "cell_type": "code",
   "execution_count": 7,
   "id": "8a662792",
   "metadata": {},
   "outputs": [
    {
     "name": "stdout",
     "output_type": "stream",
     "text": [
      "Quel est ton age26\n"
     ]
    }
   ],
   "source": [
    "age=input(\"Quel est ton age\")"
   ]
  },
  {
   "cell_type": "code",
   "execution_count": 8,
   "id": "7856115f",
   "metadata": {},
   "outputs": [
    {
     "data": {
      "text/plain": [
       "str"
      ]
     },
     "execution_count": 8,
     "metadata": {},
     "output_type": "execute_result"
    }
   ],
   "source": [
    "type(age)"
   ]
  },
  {
   "cell_type": "code",
   "execution_count": 9,
   "id": "9ba8823e",
   "metadata": {},
   "outputs": [
    {
     "data": {
      "text/plain": [
       "'26'"
      ]
     },
     "execution_count": 9,
     "metadata": {},
     "output_type": "execute_result"
    }
   ],
   "source": [
    "age"
   ]
  },
  {
   "cell_type": "code",
   "execution_count": 10,
   "id": "a1d15815",
   "metadata": {},
   "outputs": [],
   "source": [
    "age=int(age)"
   ]
  },
  {
   "cell_type": "code",
   "execution_count": 11,
   "id": "0dafe7af",
   "metadata": {},
   "outputs": [
    {
     "data": {
      "text/plain": [
       "26"
      ]
     },
     "execution_count": 11,
     "metadata": {},
     "output_type": "execute_result"
    }
   ],
   "source": [
    "age"
   ]
  },
  {
   "cell_type": "code",
   "execution_count": 12,
   "id": "709f2688",
   "metadata": {},
   "outputs": [
    {
     "name": "stdout",
     "output_type": "stream",
     "text": [
      "Quel est ton age ? : 45\n"
     ]
    }
   ],
   "source": [
    "age=int(input(\"Quel est ton age ? : \"))"
   ]
  },
  {
   "cell_type": "code",
   "execution_count": 13,
   "id": "8670412e",
   "metadata": {},
   "outputs": [
    {
     "data": {
      "text/plain": [
       "45"
      ]
     },
     "execution_count": 13,
     "metadata": {},
     "output_type": "execute_result"
    }
   ],
   "source": [
    "age"
   ]
  },
  {
   "cell_type": "code",
   "execution_count": 14,
   "id": "5a335acd",
   "metadata": {},
   "outputs": [
    {
     "data": {
      "text/plain": [
       "int"
      ]
     },
     "execution_count": 14,
     "metadata": {},
     "output_type": "execute_result"
    }
   ],
   "source": [
    "type(age)"
   ]
  },
  {
   "cell_type": "code",
   "execution_count": 15,
   "id": "321ee9f9",
   "metadata": {},
   "outputs": [],
   "source": [
    "n=25"
   ]
  },
  {
   "cell_type": "code",
   "execution_count": 16,
   "id": "226ca086",
   "metadata": {},
   "outputs": [
    {
     "data": {
      "text/plain": [
       "False"
      ]
     },
     "execution_count": 16,
     "metadata": {},
     "output_type": "execute_result"
    }
   ],
   "source": [
    "n>36"
   ]
  },
  {
   "cell_type": "code",
   "execution_count": 17,
   "id": "27c4e6a6",
   "metadata": {},
   "outputs": [
    {
     "data": {
      "text/plain": [
       "False"
      ]
     },
     "execution_count": 17,
     "metadata": {},
     "output_type": "execute_result"
    }
   ],
   "source": [
    "n<18"
   ]
  },
  {
   "cell_type": "code",
   "execution_count": 18,
   "id": "c8660ffc",
   "metadata": {},
   "outputs": [
    {
     "data": {
      "text/plain": [
       "False"
      ]
     },
     "execution_count": 18,
     "metadata": {},
     "output_type": "execute_result"
    }
   ],
   "source": [
    "n==26"
   ]
  },
  {
   "cell_type": "code",
   "execution_count": 19,
   "id": "4ffddd32",
   "metadata": {},
   "outputs": [
    {
     "data": {
      "text/plain": [
       "False"
      ]
     },
     "execution_count": 19,
     "metadata": {},
     "output_type": "execute_result"
    }
   ],
   "source": [
    "n!=25"
   ]
  },
  {
   "cell_type": "code",
   "execution_count": 20,
   "id": "7dfe1852",
   "metadata": {},
   "outputs": [
    {
     "data": {
      "text/plain": [
       "True"
      ]
     },
     "execution_count": 20,
     "metadata": {},
     "output_type": "execute_result"
    }
   ],
   "source": [
    "n>=25"
   ]
  },
  {
   "cell_type": "code",
   "execution_count": 21,
   "id": "cbdabb44",
   "metadata": {},
   "outputs": [
    {
     "data": {
      "text/plain": [
       "False"
      ]
     },
     "execution_count": 21,
     "metadata": {},
     "output_type": "execute_result"
    }
   ],
   "source": [
    "n<=15.56"
   ]
  },
  {
   "cell_type": "code",
   "execution_count": 22,
   "id": "acc83da3",
   "metadata": {},
   "outputs": [],
   "source": [
    "langage=\"Python\""
   ]
  },
  {
   "cell_type": "code",
   "execution_count": 23,
   "id": "fd65f39c",
   "metadata": {},
   "outputs": [
    {
     "data": {
      "text/plain": [
       "False"
      ]
     },
     "execution_count": 23,
     "metadata": {},
     "output_type": "execute_result"
    }
   ],
   "source": [
    "langage==\"Javascript\""
   ]
  },
  {
   "cell_type": "code",
   "execution_count": 24,
   "id": "0656c660",
   "metadata": {},
   "outputs": [
    {
     "data": {
      "text/plain": [
       "True"
      ]
     },
     "execution_count": 24,
     "metadata": {},
     "output_type": "execute_result"
    }
   ],
   "source": [
    "len(langage)>5"
   ]
  },
  {
   "cell_type": "code",
   "execution_count": 25,
   "id": "d45f713b",
   "metadata": {},
   "outputs": [
    {
     "data": {
      "text/plain": [
       "True"
      ]
     },
     "execution_count": 25,
     "metadata": {},
     "output_type": "execute_result"
    }
   ],
   "source": [
    "'n' in langage"
   ]
  },
  {
   "cell_type": "code",
   "execution_count": 26,
   "id": "7c78ca8a",
   "metadata": {},
   "outputs": [
    {
     "data": {
      "text/plain": [
       "True"
      ]
     },
     "execution_count": 26,
     "metadata": {},
     "output_type": "execute_result"
    }
   ],
   "source": [
    "langage.startswith('Py')"
   ]
  },
  {
   "cell_type": "code",
   "execution_count": 27,
   "id": "e08b5f15",
   "metadata": {},
   "outputs": [
    {
     "data": {
      "text/plain": [
       "False"
      ]
     },
     "execution_count": 27,
     "metadata": {},
     "output_type": "execute_result"
    }
   ],
   "source": [
    "langage.endswith('C')"
   ]
  },
  {
   "cell_type": "code",
   "execution_count": 28,
   "id": "d08625ef",
   "metadata": {},
   "outputs": [],
   "source": [
    "fruits = [\"Pomme\", \"avocat\", \"ananas\"]"
   ]
  },
  {
   "cell_type": "code",
   "execution_count": 29,
   "id": "e9aac04a",
   "metadata": {},
   "outputs": [
    {
     "data": {
      "text/plain": [
       "False"
      ]
     },
     "execution_count": 29,
     "metadata": {},
     "output_type": "execute_result"
    }
   ],
   "source": [
    "len(fruits)>5"
   ]
  },
  {
   "cell_type": "code",
   "execution_count": 30,
   "id": "693c50b7",
   "metadata": {},
   "outputs": [
    {
     "data": {
      "text/plain": [
       "False"
      ]
     },
     "execution_count": 30,
     "metadata": {},
     "output_type": "execute_result"
    }
   ],
   "source": [
    "'citron' in fruits"
   ]
  },
  {
   "cell_type": "code",
   "execution_count": 31,
   "id": "dabbeb58",
   "metadata": {},
   "outputs": [
    {
     "data": {
      "text/plain": [
       "True"
      ]
     },
     "execution_count": 31,
     "metadata": {},
     "output_type": "execute_result"
    }
   ],
   "source": [
    "fruits[0]=='Pomme'"
   ]
  },
  {
   "cell_type": "code",
   "execution_count": 32,
   "id": "986c92ec",
   "metadata": {},
   "outputs": [
    {
     "data": {
      "text/plain": [
       "True"
      ]
     },
     "execution_count": 32,
     "metadata": {},
     "output_type": "execute_result"
    }
   ],
   "source": [
    "bool(fruits)"
   ]
  },
  {
   "cell_type": "code",
   "execution_count": 33,
   "id": "a22887e9",
   "metadata": {},
   "outputs": [
    {
     "data": {
      "text/plain": [
       "False"
      ]
     },
     "execution_count": 33,
     "metadata": {},
     "output_type": "execute_result"
    }
   ],
   "source": [
    "bool([])"
   ]
  },
  {
   "cell_type": "code",
   "execution_count": 34,
   "id": "a7fbfe87",
   "metadata": {},
   "outputs": [
    {
     "data": {
      "text/plain": [
       "False"
      ]
     },
     "execution_count": 34,
     "metadata": {},
     "output_type": "execute_result"
    }
   ],
   "source": [
    "bool(\"\")"
   ]
  },
  {
   "cell_type": "code",
   "execution_count": 35,
   "id": "9b3fcb35",
   "metadata": {},
   "outputs": [
    {
     "data": {
      "text/plain": [
       "True"
      ]
     },
     "execution_count": 35,
     "metadata": {},
     "output_type": "execute_result"
    }
   ],
   "source": [
    "bool(\"non vide\")"
   ]
  },
  {
   "cell_type": "code",
   "execution_count": 36,
   "id": "b6a791a3",
   "metadata": {},
   "outputs": [],
   "source": [
    "annuaire = {'kevin': '0606060606', 'radji': '06466548454', 'sos': '911'}"
   ]
  },
  {
   "cell_type": "code",
   "execution_count": 37,
   "id": "1589cdc0",
   "metadata": {},
   "outputs": [
    {
     "data": {
      "text/plain": [
       "True"
      ]
     },
     "execution_count": 37,
     "metadata": {},
     "output_type": "execute_result"
    }
   ],
   "source": [
    "\"kevin\" in annuaire"
   ]
  },
  {
   "cell_type": "code",
   "execution_count": 39,
   "id": "629050f6",
   "metadata": {},
   "outputs": [
    {
     "data": {
      "text/plain": [
       "True"
      ]
     },
     "execution_count": 39,
     "metadata": {},
     "output_type": "execute_result"
    }
   ],
   "source": [
    "'911' in annuaire.values()"
   ]
  },
  {
   "cell_type": "code",
   "execution_count": 40,
   "id": "bf8e5635",
   "metadata": {},
   "outputs": [
    {
     "data": {
      "text/plain": [
       "True"
      ]
     },
     "execution_count": 40,
     "metadata": {},
     "output_type": "execute_result"
    }
   ],
   "source": [
    "len(annuaire)>=2"
   ]
  },
  {
   "cell_type": "code",
   "execution_count": 41,
   "id": "1c19accc",
   "metadata": {},
   "outputs": [],
   "source": [
    "note=11"
   ]
  },
  {
   "cell_type": "code",
   "execution_count": 42,
   "id": "d39dc564",
   "metadata": {},
   "outputs": [
    {
     "data": {
      "text/plain": [
       "False"
      ]
     },
     "execution_count": 42,
     "metadata": {},
     "output_type": "execute_result"
    }
   ],
   "source": [
    "note>12"
   ]
  },
  {
   "cell_type": "code",
   "execution_count": 43,
   "id": "10d5ec9e",
   "metadata": {},
   "outputs": [
    {
     "data": {
      "text/plain": [
       "False"
      ]
     },
     "execution_count": 43,
     "metadata": {},
     "output_type": "execute_result"
    }
   ],
   "source": [
    "note<10"
   ]
  },
  {
   "cell_type": "code",
   "execution_count": 44,
   "id": "b4b17f44",
   "metadata": {},
   "outputs": [
    {
     "data": {
      "text/plain": [
       "False"
      ]
     },
     "execution_count": 44,
     "metadata": {},
     "output_type": "execute_result"
    }
   ],
   "source": [
    "note>12 and note<10"
   ]
  },
  {
   "cell_type": "code",
   "execution_count": 45,
   "id": "fe78ef6f",
   "metadata": {},
   "outputs": [
    {
     "data": {
      "text/plain": [
       "True"
      ]
     },
     "execution_count": 45,
     "metadata": {},
     "output_type": "execute_result"
    }
   ],
   "source": [
    "True and True"
   ]
  },
  {
   "cell_type": "code",
   "execution_count": 46,
   "id": "c730a4e6",
   "metadata": {},
   "outputs": [
    {
     "data": {
      "text/plain": [
       "False"
      ]
     },
     "execution_count": 46,
     "metadata": {},
     "output_type": "execute_result"
    }
   ],
   "source": [
    "True and False"
   ]
  },
  {
   "cell_type": "code",
   "execution_count": 47,
   "id": "969257ca",
   "metadata": {},
   "outputs": [
    {
     "data": {
      "text/plain": [
       "False"
      ]
     },
     "execution_count": 47,
     "metadata": {},
     "output_type": "execute_result"
    }
   ],
   "source": [
    "False and True"
   ]
  },
  {
   "cell_type": "code",
   "execution_count": 48,
   "id": "c4eb53a6",
   "metadata": {},
   "outputs": [
    {
     "data": {
      "text/plain": [
       "False"
      ]
     },
     "execution_count": 48,
     "metadata": {},
     "output_type": "execute_result"
    }
   ],
   "source": [
    "False and False"
   ]
  },
  {
   "cell_type": "code",
   "execution_count": 49,
   "id": "ca6cd828",
   "metadata": {},
   "outputs": [
    {
     "data": {
      "text/plain": [
       "True"
      ]
     },
     "execution_count": 49,
     "metadata": {},
     "output_type": "execute_result"
    }
   ],
   "source": [
    "True or True"
   ]
  },
  {
   "cell_type": "code",
   "execution_count": 50,
   "id": "ebcd2a77",
   "metadata": {},
   "outputs": [
    {
     "data": {
      "text/plain": [
       "True"
      ]
     },
     "execution_count": 50,
     "metadata": {},
     "output_type": "execute_result"
    }
   ],
   "source": [
    "True or False"
   ]
  },
  {
   "cell_type": "code",
   "execution_count": 51,
   "id": "41ea4bc3",
   "metadata": {},
   "outputs": [
    {
     "data": {
      "text/plain": [
       "True"
      ]
     },
     "execution_count": 51,
     "metadata": {},
     "output_type": "execute_result"
    }
   ],
   "source": [
    "False or True"
   ]
  },
  {
   "cell_type": "code",
   "execution_count": 52,
   "id": "b264c737",
   "metadata": {},
   "outputs": [
    {
     "data": {
      "text/plain": [
       "False"
      ]
     },
     "execution_count": 52,
     "metadata": {},
     "output_type": "execute_result"
    }
   ],
   "source": [
    "False or False"
   ]
  },
  {
   "cell_type": "code",
   "execution_count": 53,
   "id": "b5061030",
   "metadata": {},
   "outputs": [
    {
     "data": {
      "text/plain": [
       "False"
      ]
     },
     "execution_count": 53,
     "metadata": {},
     "output_type": "execute_result"
    }
   ],
   "source": [
    "note>12 or note<10"
   ]
  },
  {
   "cell_type": "code",
   "execution_count": 55,
   "id": "0eea7154",
   "metadata": {},
   "outputs": [
    {
     "data": {
      "text/plain": [
       "True"
      ]
     },
     "execution_count": 55,
     "metadata": {},
     "output_type": "execute_result"
    }
   ],
   "source": [
    "note>10 and note<12"
   ]
  },
  {
   "cell_type": "code",
   "execution_count": 56,
   "id": "14d58c7b",
   "metadata": {},
   "outputs": [
    {
     "data": {
      "text/plain": [
       "True"
      ]
     },
     "execution_count": 56,
     "metadata": {},
     "output_type": "execute_result"
    }
   ],
   "source": [
    "10<note<12"
   ]
  },
  {
   "cell_type": "code",
   "execution_count": 57,
   "id": "40da8fbe",
   "metadata": {},
   "outputs": [
    {
     "data": {
      "text/plain": [
       "['Pomme', 'avocat', 'ananas']"
      ]
     },
     "execution_count": 57,
     "metadata": {},
     "output_type": "execute_result"
    }
   ],
   "source": [
    "fruits"
   ]
  },
  {
   "cell_type": "code",
   "execution_count": 58,
   "id": "f93fe73d",
   "metadata": {},
   "outputs": [
    {
     "data": {
      "text/plain": [
       "True"
      ]
     },
     "execution_count": 58,
     "metadata": {},
     "output_type": "execute_result"
    }
   ],
   "source": [
    "'Pomme' in fruits or 'papaye' in fruits"
   ]
  },
  {
   "cell_type": "code",
   "execution_count": 59,
   "id": "36efcf4a",
   "metadata": {},
   "outputs": [
    {
     "name": "stdout",
     "output_type": "stream",
     "text": [
      "Quelle est votre note : ? 15\n"
     ]
    }
   ],
   "source": [
    "note = int(input('Quelle est votre note : ? '))"
   ]
  },
  {
   "cell_type": "code",
   "execution_count": 60,
   "id": "2cae09e8",
   "metadata": {},
   "outputs": [
    {
     "data": {
      "text/plain": [
       "15"
      ]
     },
     "execution_count": 60,
     "metadata": {},
     "output_type": "execute_result"
    }
   ],
   "source": [
    "note"
   ]
  },
  {
   "cell_type": "code",
   "execution_count": 61,
   "id": "ad8e40d1",
   "metadata": {},
   "outputs": [
    {
     "data": {
      "text/plain": [
       "True"
      ]
     },
     "execution_count": 61,
     "metadata": {},
     "output_type": "execute_result"
    }
   ],
   "source": [
    "note>10"
   ]
  },
  {
   "cell_type": "code",
   "execution_count": 62,
   "id": "74fe3972",
   "metadata": {},
   "outputs": [
    {
     "name": "stdout",
     "output_type": "stream",
     "text": [
      "Reussite\n"
     ]
    }
   ],
   "source": [
    "if note>10:\n",
    "        print(\"Reussite\")"
   ]
  },
  {
   "cell_type": "code",
   "execution_count": 63,
   "id": "4d95f0f4",
   "metadata": {},
   "outputs": [],
   "source": [
    "if note<10:\n",
    "        print(\"Reussite\")"
   ]
  },
  {
   "cell_type": "code",
   "execution_count": 65,
   "id": "6634022e",
   "metadata": {},
   "outputs": [
    {
     "name": "stdout",
     "output_type": "stream",
     "text": [
      "Echec\n"
     ]
    }
   ],
   "source": [
    "if note<10:\n",
    "        print(\"Reussite\")\n",
    "else:\n",
    "    print(\"Echec\")"
   ]
  },
  {
   "cell_type": "code",
   "execution_count": 66,
   "id": "9f74e7cf",
   "metadata": {},
   "outputs": [
    {
     "name": "stdout",
     "output_type": "stream",
     "text": [
      "Mention Bien\n"
     ]
    }
   ],
   "source": [
    "if 0 < note < 10:\n",
    "    print(\"Mention Insuffisante\")\n",
    "elif 10 <= note < 12:\n",
    "    print(\"Mention Passable\")\n",
    "elif 12 <= note < 15:\n",
    "    print('Mention Assez bien')\n",
    "elif 15 <= note < 17:\n",
    "    print(\"Mention Bien\")\n",
    "else:\n",
    "    print('Excellent.')"
   ]
  },
  {
   "cell_type": "code",
   "execution_count": 67,
   "id": "c27662d0",
   "metadata": {},
   "outputs": [
    {
     "name": "stdout",
     "output_type": "stream",
     "text": [
      "Quel est ton nom d'utilisateur: Brainfeed\n",
      "Quel est ton mot de passe: 123\n",
      "Entrez le mot de passe une seconde fois : 123\n",
      "Vous êtes inscrits !!!\n"
     ]
    }
   ],
   "source": [
    "username = input(\"Quel est ton nom d'utilisateur: \")\n",
    "password = input(\"Quel est ton mot de passe: \")\n",
    "second_password = input(\"Entrez le mot de passe une seconde fois : \")\n",
    "\n",
    "if password == second_password:\n",
    "    print(\"Vous êtes inscrits !!!\")\n",
    "else:\n",
    "    print(\"Votre second mot de passe n'est pas égale au premier'. Réessayer\")"
   ]
  },
  {
   "cell_type": "code",
   "execution_count": null,
   "id": "cc1abaa2",
   "metadata": {},
   "outputs": [],
   "source": []
  }
 ],
 "metadata": {
  "kernelspec": {
   "display_name": "Python 3 (ipykernel)",
   "language": "python",
   "name": "python3"
  },
  "language_info": {
   "codemirror_mode": {
    "name": "ipython",
    "version": 3
   },
   "file_extension": ".py",
   "mimetype": "text/x-python",
   "name": "python",
   "nbconvert_exporter": "python",
   "pygments_lexer": "ipython3",
   "version": "3.9.13"
  }
 },
 "nbformat": 4,
 "nbformat_minor": 5
}

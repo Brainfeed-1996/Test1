{
 "cells": [
  {
   "cell_type": "code",
   "execution_count": 1,
   "id": "fb43dc25",
   "metadata": {},
   "outputs": [],
   "source": [
    "animaux = ['chien', 'chat', 'abeille', 'oiseau']"
   ]
  },
  {
   "cell_type": "code",
   "execution_count": 2,
   "id": "d67c5116",
   "metadata": {},
   "outputs": [
    {
     "name": "stdout",
     "output_type": "stream",
     "text": [
      "CHIEN\n",
      "CHAT\n",
      "ABEILLE\n",
      "OISEAU\n"
     ]
    }
   ],
   "source": [
    "for animal in animaux:\n",
    "    animal = animal.upper()\n",
    "    print(animal)"
   ]
  },
  {
   "cell_type": "code",
   "execution_count": 3,
   "id": "fe0ee6fe",
   "metadata": {},
   "outputs": [],
   "source": [
    "c_animaux = [] # liste vide pour stocker les animaux dont le nom commence par c\n",
    "for animal in animaux:\n",
    "    if animal.startswith('c'): # si animal commence par c\n",
    "        c_animaux.append(animal) # ajoute animal à c_animaux"
   ]
  },
  {
   "cell_type": "code",
   "execution_count": 4,
   "id": "454ba288",
   "metadata": {},
   "outputs": [
    {
     "data": {
      "text/plain": [
       "['chien', 'chat']"
      ]
     },
     "execution_count": 4,
     "metadata": {},
     "output_type": "execute_result"
    }
   ],
   "source": [
    "c_animaux"
   ]
  },
  {
   "cell_type": "code",
   "execution_count": 6,
   "id": "33465785",
   "metadata": {},
   "outputs": [
    {
     "name": "stdout",
     "output_type": "stream",
     "text": [
      "O\n",
      "l\n",
      "i\n",
      "v\n",
      "i\n",
      "e\n",
      "r\n"
     ]
    }
   ],
   "source": [
    "for lettre in \"Olivier\":\n",
    "    print(lettre)"
   ]
  },
  {
   "cell_type": "code",
   "execution_count": 7,
   "id": "af4aaf1a",
   "metadata": {},
   "outputs": [
    {
     "name": "stdout",
     "output_type": "stream",
     "text": [
      "0 O\n",
      "1 l\n",
      "2 i\n",
      "3 v\n",
      "4 i\n",
      "5 e\n",
      "6 r\n"
     ]
    }
   ],
   "source": [
    "for index, lettre in enumerate(\"Olivier\"):\n",
    "    print(index, lettre)"
   ]
  },
  {
   "cell_type": "code",
   "execution_count": 9,
   "id": "0086dd85",
   "metadata": {},
   "outputs": [
    {
     "name": "stdout",
     "output_type": "stream",
     "text": [
      "0\n",
      "1\n",
      "2\n",
      "3\n",
      "4\n"
     ]
    }
   ],
   "source": [
    "for i in range(5):\n",
    "    print(i)"
   ]
  },
  {
   "cell_type": "code",
   "execution_count": 11,
   "id": "051f48fb",
   "metadata": {},
   "outputs": [
    {
     "name": "stdout",
     "output_type": "stream",
     "text": [
      "1\n",
      "2\n",
      "3\n",
      "4\n",
      "5\n"
     ]
    }
   ],
   "source": [
    "for i in range(1,6):\n",
    "    print(i)"
   ]
  },
  {
   "cell_type": "code",
   "execution_count": 13,
   "id": "bff9412f",
   "metadata": {},
   "outputs": [
    {
     "name": "stdout",
     "output_type": "stream",
     "text": [
      "2\n",
      "4\n",
      "6\n",
      "8\n"
     ]
    }
   ],
   "source": [
    "for i in range(2,10,2):\n",
    "    print(i)"
   ]
  },
  {
   "cell_type": "code",
   "execution_count": 14,
   "id": "49831d81",
   "metadata": {},
   "outputs": [
    {
     "name": "stdout",
     "output_type": "stream",
     "text": [
      "10\n",
      "9\n",
      "8\n",
      "7\n",
      "6\n",
      "5\n",
      "4\n",
      "3\n",
      "2\n",
      "1\n",
      "0\n",
      "-1\n",
      "-2\n"
     ]
    }
   ],
   "source": [
    "nombre = 10\n",
    "while nombre >= -2:\n",
    "    print(nombre)\n",
    "    nombre = nombre - 1 # reduisons nombre pour qu'éventuellement cette boucle s'arrête"
   ]
  },
  {
   "cell_type": "code",
   "execution_count": 15,
   "id": "4baf6c10",
   "metadata": {},
   "outputs": [],
   "source": [
    "prenoms = ['bob', 'alice', 'paul', 'ali', 'tom', 'toni']"
   ]
  },
  {
   "cell_type": "code",
   "execution_count": 16,
   "id": "e8b102cc",
   "metadata": {},
   "outputs": [
    {
     "name": "stdout",
     "output_type": "stream",
     "text": [
      "bob\n",
      "alice\n",
      "paul\n",
      "ali\n",
      "3\n"
     ]
    }
   ],
   "source": [
    "for index, prenom in enumerate(prenoms):\n",
    "    print(prenom)\n",
    "    if prenom == 'ali':\n",
    "        print(index)\n",
    "        break"
   ]
  },
  {
   "cell_type": "code",
   "execution_count": 17,
   "id": "25971f5a",
   "metadata": {},
   "outputs": [],
   "source": [
    "prenoms = ['bob', 'alice', 'paul', 'ali', 'tom', 'toni']"
   ]
  },
  {
   "cell_type": "code",
   "execution_count": 18,
   "id": "f73b8768",
   "metadata": {},
   "outputs": [
    {
     "name": "stdout",
     "output_type": "stream",
     "text": [
      "bob\n",
      "Je ne serai pas affiché pour ali\n",
      "alice\n",
      "Je ne serai pas affiché pour ali\n",
      "paul\n",
      "Je ne serai pas affiché pour ali\n",
      "ali\n",
      "tom\n",
      "Je ne serai pas affiché pour ali\n",
      "toni\n",
      "Je ne serai pas affiché pour ali\n"
     ]
    }
   ],
   "source": [
    "for index, prenom in enumerate(prenoms):\n",
    "    print(prenom)\n",
    "    if prenom == 'ali':\n",
    "        continue\n",
    "    print(\"Je ne serai pas affiché pour ali\")"
   ]
  },
  {
   "cell_type": "code",
   "execution_count": null,
   "id": "09601889",
   "metadata": {},
   "outputs": [],
   "source": []
  }
 ],
 "metadata": {
  "kernelspec": {
   "display_name": "Python 3 (ipykernel)",
   "language": "python",
   "name": "python3"
  },
  "language_info": {
   "codemirror_mode": {
    "name": "ipython",
    "version": 3
   },
   "file_extension": ".py",
   "mimetype": "text/x-python",
   "name": "python",
   "nbconvert_exporter": "python",
   "pygments_lexer": "ipython3",
   "version": "3.9.13"
  }
 },
 "nbformat": 4,
 "nbformat_minor": 5
}

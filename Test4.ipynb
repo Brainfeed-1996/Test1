{
 "cells": [
  {
   "cell_type": "code",
   "execution_count": 1,
   "id": "4060983d",
   "metadata": {},
   "outputs": [
    {
     "data": {
      "text/plain": [
       "'Bonjour Python'"
      ]
     },
     "execution_count": 1,
     "metadata": {},
     "output_type": "execute_result"
    }
   ],
   "source": [
    "\"Hello Python\".replace('Hello', 'Bonjour')"
   ]
  },
  {
   "cell_type": "code",
   "execution_count": 2,
   "id": "cff65f32",
   "metadata": {},
   "outputs": [],
   "source": [
    "def est_pair(nombre):\n",
    "    if nombre % 2 == 0: # si reste de la division de nombre par 2 est 0\n",
    "        return True     # retourne Vrai et fonction terminée\n",
    "    return False # sinon retourne Faux et fonction terminée"
   ]
  },
  {
   "cell_type": "code",
   "execution_count": 3,
   "id": "95aebb36",
   "metadata": {},
   "outputs": [
    {
     "name": "stdout",
     "output_type": "stream",
     "text": [
      "False\n"
     ]
    }
   ],
   "source": [
    "resultat=est_pair(5)\n",
    "print(resultat)"
   ]
  },
  {
   "cell_type": "code",
   "execution_count": 6,
   "id": "aafd2cbc",
   "metadata": {},
   "outputs": [
    {
     "name": "stdout",
     "output_type": "stream",
     "text": [
      "True\n"
     ]
    }
   ],
   "source": [
    "resultat=est_pair(8)\n",
    "print(resultat)"
   ]
  },
  {
   "cell_type": "code",
   "execution_count": 7,
   "id": "ea3b2824",
   "metadata": {},
   "outputs": [],
   "source": [
    "def salutation(nom):\n",
    "    message=f\"Bonjour {nom}. J'espère que vous passez une bonne journée\"\n",
    "    return message"
   ]
  },
  {
   "cell_type": "code",
   "execution_count": 8,
   "id": "85cfef2f",
   "metadata": {},
   "outputs": [
    {
     "data": {
      "text/plain": [
       "\"Bonjour Bob. J'espère que vous passez une bonne journée\""
      ]
     },
     "execution_count": 8,
     "metadata": {},
     "output_type": "execute_result"
    }
   ],
   "source": [
    "salutation(\"Bob\")"
   ]
  },
  {
   "cell_type": "code",
   "execution_count": 9,
   "id": "7efb10e5",
   "metadata": {},
   "outputs": [
    {
     "data": {
      "text/plain": [
       "\"Bonjour Olivier. J'espère que vous passez une bonne journée\""
      ]
     },
     "execution_count": 9,
     "metadata": {},
     "output_type": "execute_result"
    }
   ],
   "source": [
    "salutation(\"Olivier\")"
   ]
  },
  {
   "cell_type": "code",
   "execution_count": 10,
   "id": "7a1e07fa",
   "metadata": {},
   "outputs": [],
   "source": [
    "def grandir(nom,age):\n",
    "    message=f'Bonjour {nom}, vous avez grandi. Vous avez désormais {age + 1} ans'\n",
    "    return message"
   ]
  },
  {
   "cell_type": "code",
   "execution_count": 12,
   "id": "1e5e4454",
   "metadata": {},
   "outputs": [
    {
     "data": {
      "text/plain": [
       "'Bonjour Bob, vous avez grandi. Vous avez désormais 16 ans'"
      ]
     },
     "execution_count": 12,
     "metadata": {},
     "output_type": "execute_result"
    }
   ],
   "source": [
    "m = grandir('Bob',15)\n",
    "m"
   ]
  },
  {
   "cell_type": "code",
   "execution_count": 14,
   "id": "6c36fcee",
   "metadata": {},
   "outputs": [],
   "source": [
    "def essai(n):\n",
    "    variable_locale = n + 1\n",
    "    print(variable_locale)"
   ]
  },
  {
   "cell_type": "code",
   "execution_count": 15,
   "id": "962b4ba3",
   "metadata": {},
   "outputs": [
    {
     "name": "stdout",
     "output_type": "stream",
     "text": [
      "3\n"
     ]
    }
   ],
   "source": [
    "essai(2)"
   ]
  },
  {
   "cell_type": "code",
   "execution_count": 16,
   "id": "aaa0a21f",
   "metadata": {},
   "outputs": [
    {
     "ename": "NameError",
     "evalue": "name 'variable_locale' is not defined",
     "output_type": "error",
     "traceback": [
      "\u001b[1;31m---------------------------------------------------------------------------\u001b[0m",
      "\u001b[1;31mNameError\u001b[0m                                 Traceback (most recent call last)",
      "\u001b[1;32m~\\AppData\\Local\\Temp\\ipykernel_83612\\639110541.py\u001b[0m in \u001b[0;36m<module>\u001b[1;34m\u001b[0m\n\u001b[1;32m----> 1\u001b[1;33m \u001b[0mvariable_locale\u001b[0m\u001b[1;33m\u001b[0m\u001b[1;33m\u001b[0m\u001b[0m\n\u001b[0m",
      "\u001b[1;31mNameError\u001b[0m: name 'variable_locale' is not defined"
     ]
    }
   ],
   "source": [
    "variable_locale"
   ]
  },
  {
   "cell_type": "code",
   "execution_count": 17,
   "id": "7b3ba724",
   "metadata": {},
   "outputs": [
    {
     "data": {
      "text/plain": [
       "3"
      ]
     },
     "execution_count": 17,
     "metadata": {},
     "output_type": "execute_result"
    }
   ],
   "source": [
    "variable_globale=2\n",
    "def essai(n):\n",
    "    m=n+variable_globale\n",
    "    return m\n",
    "essai(1)"
   ]
  },
  {
   "cell_type": "code",
   "execution_count": 18,
   "id": "baed98a4",
   "metadata": {},
   "outputs": [],
   "source": [
    "import os"
   ]
  },
  {
   "cell_type": "code",
   "execution_count": 19,
   "id": "5b067d26",
   "metadata": {},
   "outputs": [
    {
     "data": {
      "text/plain": [
       "['-1.14-windows.xml',\n",
       " '.bash_history',\n",
       " '.cache',\n",
       " '.conda',\n",
       " '.condarc',\n",
       " '.continuum',\n",
       " '.eclipse',\n",
       " '.ipynb_checkpoints',\n",
       " '.ipython',\n",
       " '.jupyter',\n",
       " '.matplotlib',\n",
       " '.minttyrc',\n",
       " '.ms-ad',\n",
       " '.p2',\n",
       " '.spyder-py3',\n",
       " '.vscode',\n",
       " '3D Objects',\n",
       " 'anaconda3',\n",
       " 'AppData',\n",
       " 'Application Data',\n",
       " 'Contacts',\n",
       " 'Cookies',\n",
       " 'datascience',\n",
       " 'Documents',\n",
       " 'Downloads',\n",
       " 'eclipse',\n",
       " 'eclipse-workspace',\n",
       " 'edb_languagepack.exe',\n",
       " 'edb_languagepack_3.exe',\n",
       " 'edb_mtk.exe',\n",
       " 'edb_npgsql.exe',\n",
       " 'edb_pem_agent.exe',\n",
       " 'edb_pem_server.exe',\n",
       " 'edb_pem_sqlprofiler_pg15.exe',\n",
       " 'edb_pgagent_pg15.exe',\n",
       " 'edb_pgbouncer.exe',\n",
       " 'edb_pgjdbc.exe',\n",
       " 'edb_psqlodbc.exe',\n",
       " 'edb_psqlodbc.exe-20230110002752',\n",
       " 'edb_xdb_62.exe',\n",
       " 'edb_xdb_7.exe',\n",
       " 'Favorites',\n",
       " 'Installation_pandas.ipynb',\n",
       " 'Links',\n",
       " 'Local Settings',\n",
       " 'Menu Démarrer',\n",
       " 'Mes documents',\n",
       " 'Modèles',\n",
       " 'Music',\n",
       " 'NTUSER.DAT',\n",
       " 'ntuser.dat.LOG1',\n",
       " 'ntuser.dat.LOG2',\n",
       " 'NTUSER.DAT{653934e6-7109-11ed-90c1-bd9be2247eee}.TM.blf',\n",
       " 'NTUSER.DAT{653934e6-7109-11ed-90c1-bd9be2247eee}.TMContainer00000000000000000001.regtrans-ms',\n",
       " 'NTUSER.DAT{653934e6-7109-11ed-90c1-bd9be2247eee}.TMContainer00000000000000000002.regtrans-ms',\n",
       " 'ntuser.ini',\n",
       " 'OneDrive',\n",
       " 'pemhttpd.exe',\n",
       " 'postgis_3_3_pg15.exe',\n",
       " 'postgresql_10.exe',\n",
       " 'postgresql_10.exe-20230110002927',\n",
       " 'postgresql_11.exe',\n",
       " 'postgresql_12.exe',\n",
       " 'postgresql_13.exe',\n",
       " 'postgresql_14.exe',\n",
       " 'postgresql_15.exe',\n",
       " 'postgresql_96.exe',\n",
       " 'postgresql_96.exe-20230110003556',\n",
       " 'PycharmProjects',\n",
       " 'Recent',\n",
       " 'Saved Games',\n",
       " 'Searches',\n",
       " 'SendTo',\n",
       " 'service.bat',\n",
       " 'Test2-Copy1.ipynb',\n",
       " 'Test2.ipynb',\n",
       " 'Test3.ipynb',\n",
       " 'Untitled.ipynb',\n",
       " 'Untitled1.ipynb',\n",
       " 'Untitled2.ipynb',\n",
       " 'Untitled3.ipynb',\n",
       " 'Untitled4.ipynb',\n",
       " 'Videos',\n",
       " \"Voisinage d'impression\",\n",
       " 'Voisinage réseau']"
      ]
     },
     "execution_count": 19,
     "metadata": {},
     "output_type": "execute_result"
    }
   ],
   "source": [
    "os.listdir('./')"
   ]
  },
  {
   "cell_type": "code",
   "execution_count": 22,
   "id": "c331a0b2",
   "metadata": {},
   "outputs": [
    {
     "ename": "FileNotFoundError",
     "evalue": "[WinError 3] Le chemin d’accès spécifié est introuvable: './datasets'",
     "output_type": "error",
     "traceback": [
      "\u001b[1;31m---------------------------------------------------------------------------\u001b[0m",
      "\u001b[1;31mFileNotFoundError\u001b[0m                         Traceback (most recent call last)",
      "\u001b[1;32m~\\AppData\\Local\\Temp\\ipykernel_83612\\807481487.py\u001b[0m in \u001b[0;36m<module>\u001b[1;34m\u001b[0m\n\u001b[1;32m----> 1\u001b[1;33m \u001b[0mos\u001b[0m\u001b[1;33m.\u001b[0m\u001b[0mlistdir\u001b[0m\u001b[1;33m(\u001b[0m\u001b[1;34m'./datasets'\u001b[0m\u001b[1;33m)\u001b[0m\u001b[1;33m\u001b[0m\u001b[1;33m\u001b[0m\u001b[0m\n\u001b[0m",
      "\u001b[1;31mFileNotFoundError\u001b[0m: [WinError 3] Le chemin d’accès spécifié est introuvable: './datasets'"
     ]
    }
   ],
   "source": [
    "os.listdir('./datasets')"
   ]
  },
  {
   "cell_type": "code",
   "execution_count": 23,
   "id": "444ffce7",
   "metadata": {},
   "outputs": [],
   "source": [
    "from random import randint"
   ]
  },
  {
   "cell_type": "code",
   "execution_count": 24,
   "id": "afb7ed8b",
   "metadata": {},
   "outputs": [
    {
     "ename": "NameError",
     "evalue": "name 'randrange' is not defined",
     "output_type": "error",
     "traceback": [
      "\u001b[1;31m---------------------------------------------------------------------------\u001b[0m",
      "\u001b[1;31mNameError\u001b[0m                                 Traceback (most recent call last)",
      "\u001b[1;32m~\\AppData\\Local\\Temp\\ipykernel_83612\\2091090051.py\u001b[0m in \u001b[0;36m<module>\u001b[1;34m\u001b[0m\n\u001b[1;32m----> 1\u001b[1;33m \u001b[0mrandrange\u001b[0m\u001b[1;33m(\u001b[0m\u001b[1;36m0\u001b[0m\u001b[1;33m,\u001b[0m\u001b[1;36m100\u001b[0m\u001b[1;33m)\u001b[0m\u001b[1;33m\u001b[0m\u001b[1;33m\u001b[0m\u001b[0m\n\u001b[0m",
      "\u001b[1;31mNameError\u001b[0m: name 'randrange' is not defined"
     ]
    }
   ],
   "source": [
    "randrange(0,100)"
   ]
  },
  {
   "cell_type": "code",
   "execution_count": 25,
   "id": "b05888c1",
   "metadata": {},
   "outputs": [
    {
     "ename": "ModuleNotFoundError",
     "evalue": "No module named 'salut'",
     "output_type": "error",
     "traceback": [
      "\u001b[1;31m---------------------------------------------------------------------------\u001b[0m",
      "\u001b[1;31mModuleNotFoundError\u001b[0m                       Traceback (most recent call last)",
      "\u001b[1;32m~\\AppData\\Local\\Temp\\ipykernel_83612\\1033464152.py\u001b[0m in \u001b[0;36m<module>\u001b[1;34m\u001b[0m\n\u001b[1;32m----> 1\u001b[1;33m \u001b[1;32mfrom\u001b[0m \u001b[0msalut\u001b[0m \u001b[1;32mimport\u001b[0m \u001b[0msalutation\u001b[0m\u001b[1;33m\u001b[0m\u001b[1;33m\u001b[0m\u001b[0m\n\u001b[0m",
      "\u001b[1;31mModuleNotFoundError\u001b[0m: No module named 'salut'"
     ]
    }
   ],
   "source": [
    "from salut import salutation"
   ]
  },
  {
   "cell_type": "code",
   "execution_count": 26,
   "id": "b79b4b0e",
   "metadata": {},
   "outputs": [
    {
     "data": {
      "text/plain": [
       "\"Bonjour Olivier. J'espère que vous passez une bonne journée\""
      ]
     },
     "execution_count": 26,
     "metadata": {},
     "output_type": "execute_result"
    }
   ],
   "source": [
    "salutation('Olivier')"
   ]
  },
  {
   "cell_type": "code",
   "execution_count": null,
   "id": "d1c887ae",
   "metadata": {},
   "outputs": [],
   "source": []
  }
 ],
 "metadata": {
  "kernelspec": {
   "display_name": "Python 3 (ipykernel)",
   "language": "python",
   "name": "python3"
  },
  "language_info": {
   "codemirror_mode": {
    "name": "ipython",
    "version": 3
   },
   "file_extension": ".py",
   "mimetype": "text/x-python",
   "name": "python",
   "nbconvert_exporter": "python",
   "pygments_lexer": "ipython3",
   "version": "3.9.13"
  }
 },
 "nbformat": 4,
 "nbformat_minor": 5
}

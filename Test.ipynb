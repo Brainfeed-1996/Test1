{
 "cells": [
  {
   "cell_type": "code",
   "execution_count": 1,
   "id": "86e3aee0",
   "metadata": {},
   "outputs": [],
   "source": [
    "poids = 89"
   ]
  },
  {
   "cell_type": "code",
   "execution_count": 2,
   "id": "fe859a52",
   "metadata": {},
   "outputs": [],
   "source": [
    "poids = 82"
   ]
  },
  {
   "cell_type": "code",
   "execution_count": 3,
   "id": "0778db25",
   "metadata": {},
   "outputs": [
    {
     "name": "stdout",
     "output_type": "stream",
     "text": [
      "82\n"
     ]
    }
   ],
   "source": [
    "print(poids)"
   ]
  },
  {
   "cell_type": "code",
   "execution_count": 4,
   "id": "729f6c93",
   "metadata": {},
   "outputs": [
    {
     "data": {
      "text/plain": [
       "82"
      ]
     },
     "execution_count": 4,
     "metadata": {},
     "output_type": "execute_result"
    }
   ],
   "source": [
    "poids"
   ]
  },
  {
   "cell_type": "code",
   "execution_count": 54,
   "id": "5a5301e3",
   "metadata": {},
   "outputs": [],
   "source": [
    "lage_de_olivier=26"
   ]
  },
  {
   "cell_type": "code",
   "execution_count": 6,
   "id": "139dede9",
   "metadata": {},
   "outputs": [
    {
     "data": {
      "text/plain": [
       "45"
      ]
     },
     "execution_count": 6,
     "metadata": {},
     "output_type": "execute_result"
    }
   ],
   "source": [
    "15+30"
   ]
  },
  {
   "cell_type": "code",
   "execution_count": 7,
   "id": "5e92472f",
   "metadata": {},
   "outputs": [
    {
     "name": "stdout",
     "output_type": "stream",
     "text": [
      "9\n"
     ]
    }
   ],
   "source": [
    "nombre=5\n",
    "print(nombre+4)"
   ]
  },
  {
   "cell_type": "code",
   "execution_count": 8,
   "id": "936ecee0",
   "metadata": {},
   "outputs": [
    {
     "data": {
      "text/plain": [
       "84"
      ]
     },
     "execution_count": 8,
     "metadata": {},
     "output_type": "execute_result"
    }
   ],
   "source": [
    "96-12"
   ]
  },
  {
   "cell_type": "code",
   "execution_count": 10,
   "id": "0908a890",
   "metadata": {},
   "outputs": [
    {
     "name": "stdout",
     "output_type": "stream",
     "text": [
      "3\n"
     ]
    }
   ],
   "source": [
    "print(nombre-2)"
   ]
  },
  {
   "cell_type": "code",
   "execution_count": 11,
   "id": "8d6e6834",
   "metadata": {},
   "outputs": [
    {
     "data": {
      "text/plain": [
       "15"
      ]
     },
     "execution_count": 11,
     "metadata": {},
     "output_type": "execute_result"
    }
   ],
   "source": [
    "5*3"
   ]
  },
  {
   "cell_type": "code",
   "execution_count": 12,
   "id": "7fbcafa9",
   "metadata": {},
   "outputs": [
    {
     "name": "stdout",
     "output_type": "stream",
     "text": [
      "10\n"
     ]
    }
   ],
   "source": [
    "print(nombre*2)"
   ]
  },
  {
   "cell_type": "code",
   "execution_count": 13,
   "id": "e329ef4b",
   "metadata": {},
   "outputs": [
    {
     "data": {
      "text/plain": [
       "3.0"
      ]
     },
     "execution_count": 13,
     "metadata": {},
     "output_type": "execute_result"
    }
   ],
   "source": [
    "27/9"
   ]
  },
  {
   "cell_type": "code",
   "execution_count": 14,
   "id": "8c51505a",
   "metadata": {},
   "outputs": [
    {
     "data": {
      "text/plain": [
       "12.5"
      ]
     },
     "execution_count": 14,
     "metadata": {},
     "output_type": "execute_result"
    }
   ],
   "source": [
    "25/2"
   ]
  },
  {
   "cell_type": "code",
   "execution_count": 15,
   "id": "3475cefd",
   "metadata": {},
   "outputs": [
    {
     "data": {
      "text/plain": [
       "12"
      ]
     },
     "execution_count": 15,
     "metadata": {},
     "output_type": "execute_result"
    }
   ],
   "source": [
    "25//2"
   ]
  },
  {
   "cell_type": "code",
   "execution_count": 16,
   "id": "aab9056a",
   "metadata": {},
   "outputs": [
    {
     "data": {
      "text/plain": [
       "32"
      ]
     },
     "execution_count": 16,
     "metadata": {},
     "output_type": "execute_result"
    }
   ],
   "source": [
    "2**5"
   ]
  },
  {
   "cell_type": "code",
   "execution_count": 17,
   "id": "d766dd56",
   "metadata": {},
   "outputs": [
    {
     "data": {
      "text/plain": [
       "1"
      ]
     },
     "execution_count": 17,
     "metadata": {},
     "output_type": "execute_result"
    }
   ],
   "source": [
    "15**0"
   ]
  },
  {
   "cell_type": "code",
   "execution_count": 18,
   "id": "ef2c50a8",
   "metadata": {},
   "outputs": [
    {
     "data": {
      "text/plain": [
       "1"
      ]
     },
     "execution_count": 18,
     "metadata": {},
     "output_type": "execute_result"
    }
   ],
   "source": [
    "89%2"
   ]
  },
  {
   "cell_type": "code",
   "execution_count": 19,
   "id": "621b250f",
   "metadata": {},
   "outputs": [],
   "source": [
    "est_pair=27%2"
   ]
  },
  {
   "cell_type": "code",
   "execution_count": 20,
   "id": "6fc268f2",
   "metadata": {},
   "outputs": [
    {
     "data": {
      "text/plain": [
       "1"
      ]
     },
     "execution_count": 20,
     "metadata": {},
     "output_type": "execute_result"
    }
   ],
   "source": [
    "est_pair"
   ]
  },
  {
   "cell_type": "code",
   "execution_count": 21,
   "id": "a46908fe",
   "metadata": {},
   "outputs": [],
   "source": [
    "nombre_de_voitures=5"
   ]
  },
  {
   "cell_type": "code",
   "execution_count": 22,
   "id": "aac47498",
   "metadata": {},
   "outputs": [],
   "source": [
    "nombre_de_voitures = nombre_de_voitures+15"
   ]
  },
  {
   "cell_type": "code",
   "execution_count": 23,
   "id": "65518b13",
   "metadata": {},
   "outputs": [
    {
     "data": {
      "text/plain": [
       "20"
      ]
     },
     "execution_count": 23,
     "metadata": {},
     "output_type": "execute_result"
    }
   ],
   "source": [
    "nombre_de_voitures"
   ]
  },
  {
   "cell_type": "code",
   "execution_count": 24,
   "id": "dbf7161c",
   "metadata": {},
   "outputs": [],
   "source": [
    "nombre_de_voitures+=15"
   ]
  },
  {
   "cell_type": "code",
   "execution_count": 25,
   "id": "8bb33720",
   "metadata": {},
   "outputs": [
    {
     "data": {
      "text/plain": [
       "35"
      ]
     },
     "execution_count": 25,
     "metadata": {},
     "output_type": "execute_result"
    }
   ],
   "source": [
    "nombre_de_voitures"
   ]
  },
  {
   "cell_type": "code",
   "execution_count": 26,
   "id": "8d2b71f5",
   "metadata": {},
   "outputs": [],
   "source": [
    "nombre_de_voitures-=3"
   ]
  },
  {
   "cell_type": "code",
   "execution_count": 27,
   "id": "768d2600",
   "metadata": {},
   "outputs": [
    {
     "data": {
      "text/plain": [
       "32"
      ]
     },
     "execution_count": 27,
     "metadata": {},
     "output_type": "execute_result"
    }
   ],
   "source": [
    "nombre_de_voitures"
   ]
  },
  {
   "cell_type": "code",
   "execution_count": 28,
   "id": "752591da",
   "metadata": {},
   "outputs": [],
   "source": [
    "nombre_de_voitures/=2"
   ]
  },
  {
   "cell_type": "code",
   "execution_count": 29,
   "id": "363f02ff",
   "metadata": {},
   "outputs": [
    {
     "data": {
      "text/plain": [
       "16.0"
      ]
     },
     "execution_count": 29,
     "metadata": {},
     "output_type": "execute_result"
    }
   ],
   "source": [
    "nombre_de_voitures"
   ]
  },
  {
   "cell_type": "code",
   "execution_count": 30,
   "id": "3e589be7",
   "metadata": {},
   "outputs": [],
   "source": [
    "nombre_de_voitures*=3"
   ]
  },
  {
   "cell_type": "code",
   "execution_count": 31,
   "id": "410a132c",
   "metadata": {},
   "outputs": [
    {
     "data": {
      "text/plain": [
       "48.0"
      ]
     },
     "execution_count": 31,
     "metadata": {},
     "output_type": "execute_result"
    }
   ],
   "source": [
    "nombre_de_voitures"
   ]
  },
  {
   "cell_type": "code",
   "execution_count": 32,
   "id": "c272356e",
   "metadata": {},
   "outputs": [
    {
     "data": {
      "text/plain": [
       "87"
      ]
     },
     "execution_count": 32,
     "metadata": {},
     "output_type": "execute_result"
    }
   ],
   "source": [
    "15+8*3**2"
   ]
  },
  {
   "cell_type": "code",
   "execution_count": 33,
   "id": "9155dd04",
   "metadata": {},
   "outputs": [
    {
     "data": {
      "text/plain": [
       "207"
      ]
     },
     "execution_count": 33,
     "metadata": {},
     "output_type": "execute_result"
    }
   ],
   "source": [
    "(15+8)*3**2"
   ]
  },
  {
   "cell_type": "code",
   "execution_count": 34,
   "id": "17db86a3",
   "metadata": {},
   "outputs": [],
   "source": [
    "age=15"
   ]
  },
  {
   "cell_type": "code",
   "execution_count": 35,
   "id": "017f39db",
   "metadata": {},
   "outputs": [
    {
     "data": {
      "text/plain": [
       "int"
      ]
     },
     "execution_count": 35,
     "metadata": {},
     "output_type": "execute_result"
    }
   ],
   "source": [
    "type(age)"
   ]
  },
  {
   "cell_type": "code",
   "execution_count": 36,
   "id": "da7a00ee",
   "metadata": {},
   "outputs": [],
   "source": [
    "taille=1.83"
   ]
  },
  {
   "cell_type": "code",
   "execution_count": 37,
   "id": "4d511dd3",
   "metadata": {},
   "outputs": [
    {
     "data": {
      "text/plain": [
       "float"
      ]
     },
     "execution_count": 37,
     "metadata": {},
     "output_type": "execute_result"
    }
   ],
   "source": [
    "type(taille)"
   ]
  },
  {
   "cell_type": "code",
   "execution_count": 38,
   "id": "303183ae",
   "metadata": {},
   "outputs": [],
   "source": [
    "nom=\"Olivier\""
   ]
  },
  {
   "cell_type": "code",
   "execution_count": 39,
   "id": "eeffb72c",
   "metadata": {},
   "outputs": [
    {
     "data": {
      "text/plain": [
       "str"
      ]
     },
     "execution_count": 39,
     "metadata": {},
     "output_type": "execute_result"
    }
   ],
   "source": [
    "type(nom)"
   ]
  },
  {
   "cell_type": "code",
   "execution_count": 40,
   "id": "11e8d68d",
   "metadata": {},
   "outputs": [],
   "source": [
    "nombre=\"15\""
   ]
  },
  {
   "cell_type": "code",
   "execution_count": 41,
   "id": "0d1dba01",
   "metadata": {},
   "outputs": [
    {
     "data": {
      "text/plain": [
       "str"
      ]
     },
     "execution_count": 41,
     "metadata": {},
     "output_type": "execute_result"
    }
   ],
   "source": [
    "type(nombre)"
   ]
  },
  {
   "cell_type": "code",
   "execution_count": 42,
   "id": "af90c6b3",
   "metadata": {},
   "outputs": [],
   "source": [
    "numero=\"15\""
   ]
  },
  {
   "cell_type": "code",
   "execution_count": 43,
   "id": "9768fe72",
   "metadata": {},
   "outputs": [
    {
     "data": {
      "text/plain": [
       "str"
      ]
     },
     "execution_count": 43,
     "metadata": {},
     "output_type": "execute_result"
    }
   ],
   "source": [
    "type(numero)"
   ]
  },
  {
   "cell_type": "code",
   "execution_count": 44,
   "id": "f914648c",
   "metadata": {},
   "outputs": [],
   "source": [
    "numero_int=int(numero)"
   ]
  },
  {
   "cell_type": "code",
   "execution_count": 45,
   "id": "d33ac883",
   "metadata": {},
   "outputs": [
    {
     "data": {
      "text/plain": [
       "int"
      ]
     },
     "execution_count": 45,
     "metadata": {},
     "output_type": "execute_result"
    }
   ],
   "source": [
    "type(numero_int)"
   ]
  },
  {
   "cell_type": "code",
   "execution_count": 46,
   "id": "d48a4b12",
   "metadata": {},
   "outputs": [],
   "source": [
    "numero=\"1589kil\""
   ]
  },
  {
   "cell_type": "code",
   "execution_count": 47,
   "id": "31d61715",
   "metadata": {},
   "outputs": [
    {
     "ename": "ValueError",
     "evalue": "invalid literal for int() with base 10: '1589kil'",
     "output_type": "error",
     "traceback": [
      "\u001b[1;31m---------------------------------------------------------------------------\u001b[0m",
      "\u001b[1;31mValueError\u001b[0m                                Traceback (most recent call last)",
      "\u001b[1;32m~\\AppData\\Local\\Temp\\ipykernel_95932\\1260892785.py\u001b[0m in \u001b[0;36m<module>\u001b[1;34m\u001b[0m\n\u001b[1;32m----> 1\u001b[1;33m \u001b[0mint\u001b[0m\u001b[1;33m(\u001b[0m\u001b[0mnumero\u001b[0m\u001b[1;33m)\u001b[0m\u001b[1;33m\u001b[0m\u001b[1;33m\u001b[0m\u001b[0m\n\u001b[0m",
      "\u001b[1;31mValueError\u001b[0m: invalid literal for int() with base 10: '1589kil'"
     ]
    }
   ],
   "source": [
    "int(numero)"
   ]
  },
  {
   "cell_type": "code",
   "execution_count": 48,
   "id": "03eeb10a",
   "metadata": {},
   "outputs": [],
   "source": [
    "age=15"
   ]
  },
  {
   "cell_type": "code",
   "execution_count": 49,
   "id": "d487ed47",
   "metadata": {},
   "outputs": [
    {
     "data": {
      "text/plain": [
       "'15'"
      ]
     },
     "execution_count": 49,
     "metadata": {},
     "output_type": "execute_result"
    }
   ],
   "source": [
    "str(age)"
   ]
  },
  {
   "cell_type": "code",
   "execution_count": 50,
   "id": "c64c13a3",
   "metadata": {},
   "outputs": [],
   "source": [
    "poids=\"18.69\""
   ]
  },
  {
   "cell_type": "code",
   "execution_count": 51,
   "id": "580d75d9",
   "metadata": {},
   "outputs": [
    {
     "data": {
      "text/plain": [
       "18.69"
      ]
     },
     "execution_count": 51,
     "metadata": {},
     "output_type": "execute_result"
    }
   ],
   "source": [
    "float(poids)"
   ]
  },
  {
   "cell_type": "code",
   "execution_count": 52,
   "id": "b31839a8",
   "metadata": {},
   "outputs": [],
   "source": [
    "poids=float(poids)"
   ]
  },
  {
   "cell_type": "code",
   "execution_count": 53,
   "id": "05140f9b",
   "metadata": {},
   "outputs": [
    {
     "data": {
      "text/plain": [
       "18.69"
      ]
     },
     "execution_count": 53,
     "metadata": {},
     "output_type": "execute_result"
    }
   ],
   "source": [
    "poids"
   ]
  },
  {
   "cell_type": "code",
   "execution_count": 55,
   "id": "25d5edfe",
   "metadata": {},
   "outputs": [],
   "source": [
    "notes = [18, 15, 13, 20]"
   ]
  },
  {
   "cell_type": "code",
   "execution_count": 56,
   "id": "140f1292",
   "metadata": {},
   "outputs": [],
   "source": [
    "blabla = [\"Olivier\", 15, 25.25, [5], \"1\"]"
   ]
  },
  {
   "cell_type": "code",
   "execution_count": 57,
   "id": "aca438c4",
   "metadata": {},
   "outputs": [
    {
     "data": {
      "text/plain": [
       "18"
      ]
     },
     "execution_count": 57,
     "metadata": {},
     "output_type": "execute_result"
    }
   ],
   "source": [
    "notes[0]"
   ]
  },
  {
   "cell_type": "code",
   "execution_count": 58,
   "id": "c9dd123a",
   "metadata": {},
   "outputs": [
    {
     "data": {
      "text/plain": [
       "13"
      ]
     },
     "execution_count": 58,
     "metadata": {},
     "output_type": "execute_result"
    }
   ],
   "source": [
    "notes[2]"
   ]
  },
  {
   "cell_type": "code",
   "execution_count": 59,
   "id": "0c80c170",
   "metadata": {},
   "outputs": [
    {
     "data": {
      "text/plain": [
       "20"
      ]
     },
     "execution_count": 59,
     "metadata": {},
     "output_type": "execute_result"
    }
   ],
   "source": [
    "notes[-1]"
   ]
  },
  {
   "cell_type": "code",
   "execution_count": 60,
   "id": "bec1a939",
   "metadata": {},
   "outputs": [
    {
     "data": {
      "text/plain": [
       "13"
      ]
     },
     "execution_count": 60,
     "metadata": {},
     "output_type": "execute_result"
    }
   ],
   "source": [
    "notes[-2]"
   ]
  },
  {
   "cell_type": "code",
   "execution_count": 61,
   "id": "9a249fb5",
   "metadata": {},
   "outputs": [
    {
     "data": {
      "text/plain": [
       "[5]"
      ]
     },
     "execution_count": 61,
     "metadata": {},
     "output_type": "execute_result"
    }
   ],
   "source": [
    "blabla[3]"
   ]
  },
  {
   "cell_type": "code",
   "execution_count": 62,
   "id": "994bb8d9",
   "metadata": {},
   "outputs": [
    {
     "data": {
      "text/plain": [
       "list"
      ]
     },
     "execution_count": 62,
     "metadata": {},
     "output_type": "execute_result"
    }
   ],
   "source": [
    "type(blabla[3])"
   ]
  },
  {
   "cell_type": "code",
   "execution_count": 63,
   "id": "0fa8b5e1",
   "metadata": {},
   "outputs": [],
   "source": [
    "notes=[18,15,13,20]"
   ]
  },
  {
   "cell_type": "code",
   "execution_count": 64,
   "id": "917cba3d",
   "metadata": {},
   "outputs": [
    {
     "data": {
      "text/plain": [
       "13"
      ]
     },
     "execution_count": 64,
     "metadata": {},
     "output_type": "execute_result"
    }
   ],
   "source": [
    "notes[-2]"
   ]
  },
  {
   "cell_type": "code",
   "execution_count": 65,
   "id": "a99a01b2",
   "metadata": {},
   "outputs": [],
   "source": [
    "notes[-2]=15"
   ]
  },
  {
   "cell_type": "code",
   "execution_count": 66,
   "id": "f8f46f47",
   "metadata": {},
   "outputs": [
    {
     "data": {
      "text/plain": [
       "[18, 15, 15, 20]"
      ]
     },
     "execution_count": 66,
     "metadata": {},
     "output_type": "execute_result"
    }
   ],
   "source": [
    "notes"
   ]
  },
  {
   "cell_type": "code",
   "execution_count": 67,
   "id": "e3743509",
   "metadata": {},
   "outputs": [
    {
     "data": {
      "text/plain": [
       "[18, 15]"
      ]
     },
     "execution_count": 67,
     "metadata": {},
     "output_type": "execute_result"
    }
   ],
   "source": [
    "notes[0:2]"
   ]
  },
  {
   "cell_type": "code",
   "execution_count": 68,
   "id": "5ae2fdc2",
   "metadata": {},
   "outputs": [
    {
     "data": {
      "text/plain": [
       "[15, 15, 20]"
      ]
     },
     "execution_count": 68,
     "metadata": {},
     "output_type": "execute_result"
    }
   ],
   "source": [
    "notes[1:4]"
   ]
  },
  {
   "cell_type": "code",
   "execution_count": 69,
   "id": "aa8bd872",
   "metadata": {},
   "outputs": [
    {
     "data": {
      "text/plain": [
       "[15, 15]"
      ]
     },
     "execution_count": 69,
     "metadata": {},
     "output_type": "execute_result"
    }
   ],
   "source": [
    "notes[-3: -1]"
   ]
  },
  {
   "cell_type": "code",
   "execution_count": 70,
   "id": "f2f1236f",
   "metadata": {},
   "outputs": [],
   "source": [
    "liste_aleatoire = [ 14, 58, 45, -9, \"ballon\", \"olivier\", 12]"
   ]
  },
  {
   "cell_type": "code",
   "execution_count": 71,
   "id": "6b1c383d",
   "metadata": {},
   "outputs": [
    {
     "data": {
      "text/plain": [
       "7"
      ]
     },
     "execution_count": 71,
     "metadata": {},
     "output_type": "execute_result"
    }
   ],
   "source": [
    "len(liste_aleatoire)"
   ]
  },
  {
   "cell_type": "code",
   "execution_count": 72,
   "id": "61a4eede",
   "metadata": {},
   "outputs": [
    {
     "ename": "IndexError",
     "evalue": "list assignment index out of range",
     "output_type": "error",
     "traceback": [
      "\u001b[1;31m---------------------------------------------------------------------------\u001b[0m",
      "\u001b[1;31mIndexError\u001b[0m                                Traceback (most recent call last)",
      "\u001b[1;32m~\\AppData\\Local\\Temp\\ipykernel_95932\\2760188306.py\u001b[0m in \u001b[0;36m<module>\u001b[1;34m\u001b[0m\n\u001b[1;32m----> 1\u001b[1;33m \u001b[0mliste_aleatoire\u001b[0m\u001b[1;33m[\u001b[0m\u001b[1;36m7\u001b[0m\u001b[1;33m]\u001b[0m\u001b[1;33m=\u001b[0m\u001b[1;34m\"python\"\u001b[0m\u001b[1;33m\u001b[0m\u001b[1;33m\u001b[0m\u001b[0m\n\u001b[0m",
      "\u001b[1;31mIndexError\u001b[0m: list assignment index out of range"
     ]
    }
   ],
   "source": [
    "liste_aleatoire[7]=\"python\""
   ]
  },
  {
   "cell_type": "code",
   "execution_count": 73,
   "id": "3b66f32e",
   "metadata": {},
   "outputs": [],
   "source": [
    "liste_aleatoire.append('python')"
   ]
  },
  {
   "cell_type": "code",
   "execution_count": 74,
   "id": "ec12a498",
   "metadata": {},
   "outputs": [
    {
     "data": {
      "text/plain": [
       "[14, 58, 45, -9, 'ballon', 'olivier', 12, 'python']"
      ]
     },
     "execution_count": 74,
     "metadata": {},
     "output_type": "execute_result"
    }
   ],
   "source": [
    "liste_aleatoire"
   ]
  },
  {
   "cell_type": "code",
   "execution_count": 75,
   "id": "d2f7d976",
   "metadata": {},
   "outputs": [],
   "source": [
    "liste_aleatoire.insert(3,'data')"
   ]
  },
  {
   "cell_type": "code",
   "execution_count": 76,
   "id": "a2c7c572",
   "metadata": {},
   "outputs": [
    {
     "data": {
      "text/plain": [
       "[14, 58, 45, 'data', -9, 'ballon', 'olivier', 12, 'python']"
      ]
     },
     "execution_count": 76,
     "metadata": {},
     "output_type": "execute_result"
    }
   ],
   "source": [
    "liste_aleatoire"
   ]
  },
  {
   "cell_type": "code",
   "execution_count": 77,
   "id": "487614cf",
   "metadata": {},
   "outputs": [],
   "source": [
    "liste_aleatoire.remove(-9)"
   ]
  },
  {
   "cell_type": "code",
   "execution_count": 78,
   "id": "63e0f472",
   "metadata": {},
   "outputs": [],
   "source": [
    "del liste_aleatoire[1]"
   ]
  },
  {
   "cell_type": "code",
   "execution_count": 79,
   "id": "cdda850b",
   "metadata": {},
   "outputs": [
    {
     "data": {
      "text/plain": [
       "[14, 45, 'data', 'ballon', 'olivier', 12, 'python']"
      ]
     },
     "execution_count": 79,
     "metadata": {},
     "output_type": "execute_result"
    }
   ],
   "source": [
    "liste_aleatoire"
   ]
  },
  {
   "cell_type": "code",
   "execution_count": 80,
   "id": "186adcea",
   "metadata": {},
   "outputs": [],
   "source": [
    "un_tuple=(2,5,9)"
   ]
  },
  {
   "cell_type": "code",
   "execution_count": 81,
   "id": "9601b631",
   "metadata": {},
   "outputs": [
    {
     "data": {
      "text/plain": [
       "tuple"
      ]
     },
     "execution_count": 81,
     "metadata": {},
     "output_type": "execute_result"
    }
   ],
   "source": [
    "type(un_tuple)"
   ]
  },
  {
   "cell_type": "code",
   "execution_count": 82,
   "id": "989495a9",
   "metadata": {},
   "outputs": [
    {
     "data": {
      "text/plain": [
       "9"
      ]
     },
     "execution_count": 82,
     "metadata": {},
     "output_type": "execute_result"
    }
   ],
   "source": [
    "un_tuple[2]"
   ]
  },
  {
   "cell_type": "code",
   "execution_count": 83,
   "id": "f76c6ca8",
   "metadata": {},
   "outputs": [
    {
     "ename": "TypeError",
     "evalue": "'tuple' object is not callable",
     "output_type": "error",
     "traceback": [
      "\u001b[1;31m---------------------------------------------------------------------------\u001b[0m",
      "\u001b[1;31mTypeError\u001b[0m                                 Traceback (most recent call last)",
      "\u001b[1;32m~\\AppData\\Local\\Temp\\ipykernel_95932\\3730588328.py\u001b[0m in \u001b[0;36m<module>\u001b[1;34m\u001b[0m\n\u001b[1;32m----> 1\u001b[1;33m \u001b[0mun_tuple\u001b[0m\u001b[1;33m(\u001b[0m\u001b[1;36m2\u001b[0m\u001b[1;33m)\u001b[0m\u001b[1;33m\u001b[0m\u001b[1;33m\u001b[0m\u001b[0m\n\u001b[0m",
      "\u001b[1;31mTypeError\u001b[0m: 'tuple' object is not callable"
     ]
    }
   ],
   "source": [
    "un_tuple(2)"
   ]
  },
  {
   "cell_type": "code",
   "execution_count": 84,
   "id": "f5e088b3",
   "metadata": {},
   "outputs": [
    {
     "data": {
      "text/plain": [
       "(2, 5)"
      ]
     },
     "execution_count": 84,
     "metadata": {},
     "output_type": "execute_result"
    }
   ],
   "source": [
    "un_tuple[0:2]"
   ]
  },
  {
   "cell_type": "code",
   "execution_count": 85,
   "id": "c9b701af",
   "metadata": {},
   "outputs": [
    {
     "ename": "TypeError",
     "evalue": "'tuple' object does not support item assignment",
     "output_type": "error",
     "traceback": [
      "\u001b[1;31m---------------------------------------------------------------------------\u001b[0m",
      "\u001b[1;31mTypeError\u001b[0m                                 Traceback (most recent call last)",
      "\u001b[1;32m~\\AppData\\Local\\Temp\\ipykernel_95932\\2640405934.py\u001b[0m in \u001b[0;36m<module>\u001b[1;34m\u001b[0m\n\u001b[1;32m----> 1\u001b[1;33m \u001b[0mun_tuple\u001b[0m\u001b[1;33m[\u001b[0m\u001b[1;36m1\u001b[0m\u001b[1;33m]\u001b[0m\u001b[1;33m=\u001b[0m\u001b[1;36m15000\u001b[0m\u001b[1;33m\u001b[0m\u001b[1;33m\u001b[0m\u001b[0m\n\u001b[0m",
      "\u001b[1;31mTypeError\u001b[0m: 'tuple' object does not support item assignment"
     ]
    }
   ],
   "source": [
    "un_tuple[1]=15000"
   ]
  },
  {
   "cell_type": "code",
   "execution_count": 86,
   "id": "b9ad48e6",
   "metadata": {},
   "outputs": [
    {
     "ename": "AttributeError",
     "evalue": "'tuple' object has no attribute 'append'",
     "output_type": "error",
     "traceback": [
      "\u001b[1;31m---------------------------------------------------------------------------\u001b[0m",
      "\u001b[1;31mAttributeError\u001b[0m                            Traceback (most recent call last)",
      "\u001b[1;32m~\\AppData\\Local\\Temp\\ipykernel_95932\\2122473635.py\u001b[0m in \u001b[0;36m<module>\u001b[1;34m\u001b[0m\n\u001b[1;32m----> 1\u001b[1;33m \u001b[0mun_tuple\u001b[0m\u001b[1;33m.\u001b[0m\u001b[0mappend\u001b[0m\u001b[1;33m(\u001b[0m\u001b[1;36m15000\u001b[0m\u001b[1;33m)\u001b[0m\u001b[1;33m\u001b[0m\u001b[1;33m\u001b[0m\u001b[0m\n\u001b[0m",
      "\u001b[1;31mAttributeError\u001b[0m: 'tuple' object has no attribute 'append'"
     ]
    }
   ],
   "source": [
    "un_tuple.append(15000)"
   ]
  },
  {
   "cell_type": "code",
   "execution_count": 87,
   "id": "07b0e810",
   "metadata": {},
   "outputs": [
    {
     "ename": "TypeError",
     "evalue": "'tuple' object doesn't support item deletion",
     "output_type": "error",
     "traceback": [
      "\u001b[1;31m---------------------------------------------------------------------------\u001b[0m",
      "\u001b[1;31mTypeError\u001b[0m                                 Traceback (most recent call last)",
      "\u001b[1;32m~\\AppData\\Local\\Temp\\ipykernel_95932\\1897807472.py\u001b[0m in \u001b[0;36m<module>\u001b[1;34m\u001b[0m\n\u001b[1;32m----> 1\u001b[1;33m \u001b[1;32mdel\u001b[0m \u001b[0mun_tuple\u001b[0m\u001b[1;33m[\u001b[0m\u001b[1;36m1\u001b[0m\u001b[1;33m]\u001b[0m\u001b[1;33m\u001b[0m\u001b[1;33m\u001b[0m\u001b[0m\n\u001b[0m",
      "\u001b[1;31mTypeError\u001b[0m: 'tuple' object doesn't support item deletion"
     ]
    }
   ],
   "source": [
    "del un_tuple[1]"
   ]
  },
  {
   "cell_type": "code",
   "execution_count": 88,
   "id": "d430faf9",
   "metadata": {},
   "outputs": [],
   "source": [
    "jours = ('lundi', 'mardi', 'mercredi', 'jeudi', 'vendredi', 'samedi', 'dimanche')"
   ]
  },
  {
   "cell_type": "code",
   "execution_count": 89,
   "id": "5f791b59",
   "metadata": {},
   "outputs": [],
   "source": [
    "annuaire = {\"kevin\": \"06545885852\",\n",
    "            \"radji\": \"06466548454\"}"
   ]
  },
  {
   "cell_type": "code",
   "execution_count": 90,
   "id": "79afb3af",
   "metadata": {},
   "outputs": [
    {
     "data": {
      "text/plain": [
       "dict"
      ]
     },
     "execution_count": 90,
     "metadata": {},
     "output_type": "execute_result"
    }
   ],
   "source": [
    "type(annuaire)"
   ]
  },
  {
   "cell_type": "code",
   "execution_count": 91,
   "id": "dcb7a677",
   "metadata": {},
   "outputs": [
    {
     "data": {
      "text/plain": [
       "'06545885852'"
      ]
     },
     "execution_count": 91,
     "metadata": {},
     "output_type": "execute_result"
    }
   ],
   "source": [
    "annuaire[\"kevin\"]"
   ]
  },
  {
   "cell_type": "code",
   "execution_count": 92,
   "id": "1f123843",
   "metadata": {},
   "outputs": [],
   "source": [
    "annuaire = {\"kevin\": \"06545885852\",\n",
    "            \"radji\": \"06466548454\",\n",
    "            \"rock_ray\": [\"066545\", \"06454\"]}"
   ]
  },
  {
   "cell_type": "code",
   "execution_count": 93,
   "id": "247ff47a",
   "metadata": {},
   "outputs": [
    {
     "name": "stdout",
     "output_type": "stream",
     "text": [
      "{'kevin': '06545885852', 'radji': '06466548454', 'rock_ray': ['066545', '06454']}\n"
     ]
    }
   ],
   "source": [
    "print(annuaire)"
   ]
  },
  {
   "cell_type": "code",
   "execution_count": 94,
   "id": "311ba891",
   "metadata": {},
   "outputs": [
    {
     "data": {
      "text/plain": [
       "['066545', '06454']"
      ]
     },
     "execution_count": 94,
     "metadata": {},
     "output_type": "execute_result"
    }
   ],
   "source": [
    "annuaire[\"rock_ray\"]"
   ]
  },
  {
   "cell_type": "code",
   "execution_count": 95,
   "id": "22a85cc2",
   "metadata": {},
   "outputs": [
    {
     "data": {
      "text/plain": [
       "'066545'"
      ]
     },
     "execution_count": 95,
     "metadata": {},
     "output_type": "execute_result"
    }
   ],
   "source": [
    "annuaire[\"rock_ray\"][0]"
   ]
  },
  {
   "cell_type": "code",
   "execution_count": 96,
   "id": "145973e6",
   "metadata": {},
   "outputs": [],
   "source": [
    "annuaire[\"rock_ray\"].append(\"06545451\")"
   ]
  },
  {
   "cell_type": "code",
   "execution_count": 97,
   "id": "e1e2d8a8",
   "metadata": {},
   "outputs": [
    {
     "data": {
      "text/plain": [
       "{'kevin': '06545885852',\n",
       " 'radji': '06466548454',\n",
       " 'rock_ray': ['066545', '06454', '06545451']}"
      ]
     },
     "execution_count": 97,
     "metadata": {},
     "output_type": "execute_result"
    }
   ],
   "source": [
    "annuaire"
   ]
  },
  {
   "cell_type": "code",
   "execution_count": 98,
   "id": "50039241",
   "metadata": {},
   "outputs": [],
   "source": [
    "del annuaire['rock_ray']"
   ]
  },
  {
   "cell_type": "code",
   "execution_count": 99,
   "id": "47157c52",
   "metadata": {},
   "outputs": [
    {
     "data": {
      "text/plain": [
       "{'kevin': '06545885852', 'radji': '06466548454'}"
      ]
     },
     "execution_count": 99,
     "metadata": {},
     "output_type": "execute_result"
    }
   ],
   "source": [
    "annuaire"
   ]
  },
  {
   "cell_type": "code",
   "execution_count": 100,
   "id": "e17a5473",
   "metadata": {},
   "outputs": [],
   "source": [
    "annuaire['sos']=\"911\""
   ]
  },
  {
   "cell_type": "code",
   "execution_count": 101,
   "id": "d869ce43",
   "metadata": {},
   "outputs": [
    {
     "data": {
      "text/plain": [
       "{'kevin': '06545885852', 'radji': '06466548454', 'sos': '911'}"
      ]
     },
     "execution_count": 101,
     "metadata": {},
     "output_type": "execute_result"
    }
   ],
   "source": [
    "annuaire"
   ]
  },
  {
   "cell_type": "code",
   "execution_count": 102,
   "id": "bbcb2053",
   "metadata": {},
   "outputs": [],
   "source": [
    "un_dict = {2: \"deux\",\n",
    "           5:\"cinq\",\n",
    "           3:\"trois\"}"
   ]
  },
  {
   "cell_type": "code",
   "execution_count": 103,
   "id": "23037b36",
   "metadata": {},
   "outputs": [
    {
     "data": {
      "text/plain": [
       "3"
      ]
     },
     "execution_count": 103,
     "metadata": {},
     "output_type": "execute_result"
    }
   ],
   "source": [
    "len(un_dict)"
   ]
  },
  {
   "cell_type": "code",
   "execution_count": 104,
   "id": "7b2cca0c",
   "metadata": {},
   "outputs": [
    {
     "data": {
      "text/plain": [
       "'deux'"
      ]
     },
     "execution_count": 104,
     "metadata": {},
     "output_type": "execute_result"
    }
   ],
   "source": [
    "un_dict[2]"
   ]
  },
  {
   "cell_type": "code",
   "execution_count": 105,
   "id": "2553e0a9",
   "metadata": {},
   "outputs": [
    {
     "ename": "KeyError",
     "evalue": "1",
     "output_type": "error",
     "traceback": [
      "\u001b[1;31m---------------------------------------------------------------------------\u001b[0m",
      "\u001b[1;31mKeyError\u001b[0m                                  Traceback (most recent call last)",
      "\u001b[1;32m~\\AppData\\Local\\Temp\\ipykernel_95932\\1138657015.py\u001b[0m in \u001b[0;36m<module>\u001b[1;34m\u001b[0m\n\u001b[1;32m----> 1\u001b[1;33m \u001b[0mun_dict\u001b[0m\u001b[1;33m[\u001b[0m\u001b[1;36m1\u001b[0m\u001b[1;33m]\u001b[0m\u001b[1;33m\u001b[0m\u001b[1;33m\u001b[0m\u001b[0m\n\u001b[0m",
      "\u001b[1;31mKeyError\u001b[0m: 1"
     ]
    }
   ],
   "source": [
    "un_dict[1]"
   ]
  },
  {
   "cell_type": "code",
   "execution_count": 106,
   "id": "d602bca4",
   "metadata": {},
   "outputs": [
    {
     "data": {
      "text/plain": [
       "'cinq'"
      ]
     },
     "execution_count": 106,
     "metadata": {},
     "output_type": "execute_result"
    }
   ],
   "source": [
    "un_dict[5]"
   ]
  },
  {
   "cell_type": "code",
   "execution_count": 107,
   "id": "1a7e3191",
   "metadata": {},
   "outputs": [
    {
     "data": {
      "text/plain": [
       "{'kevin': '06545885852', 'radji': '06466548454', 'sos': '911', 'bob': '568978'}"
      ]
     },
     "execution_count": 107,
     "metadata": {},
     "output_type": "execute_result"
    }
   ],
   "source": [
    "annuaire['bob'] = \"568978\"\n",
    "annuaire"
   ]
  },
  {
   "cell_type": "code",
   "execution_count": 108,
   "id": "42e293df",
   "metadata": {},
   "outputs": [
    {
     "data": {
      "text/plain": [
       "[('bob', '568978'),\n",
       " ('kevin', '06545885852'),\n",
       " ('radji', '06466548454'),\n",
       " ('sos', '911')]"
      ]
     },
     "execution_count": 108,
     "metadata": {},
     "output_type": "execute_result"
    }
   ],
   "source": [
    "sorted(annuaire.items(), key=lambda t: t[0])"
   ]
  },
  {
   "cell_type": "code",
   "execution_count": 109,
   "id": "30a1800e",
   "metadata": {},
   "outputs": [
    {
     "data": {
      "text/plain": [
       "dict_items([('kevin', '06545885852'), ('radji', '06466548454'), ('sos', '911'), ('bob', '568978')])"
      ]
     },
     "execution_count": 109,
     "metadata": {},
     "output_type": "execute_result"
    }
   ],
   "source": [
    "annuaire.items()"
   ]
  },
  {
   "cell_type": "code",
   "execution_count": 110,
   "id": "134256bf",
   "metadata": {},
   "outputs": [
    {
     "data": {
      "text/plain": [
       "dict_keys(['kevin', 'radji', 'sos', 'bob'])"
      ]
     },
     "execution_count": 110,
     "metadata": {},
     "output_type": "execute_result"
    }
   ],
   "source": [
    "annuaire.keys()"
   ]
  },
  {
   "cell_type": "code",
   "execution_count": 111,
   "id": "ad132bcf",
   "metadata": {},
   "outputs": [
    {
     "data": {
      "text/plain": [
       "dict_values(['06545885852', '06466548454', '911', '568978'])"
      ]
     },
     "execution_count": 111,
     "metadata": {},
     "output_type": "execute_result"
    }
   ],
   "source": [
    "annuaire.values()"
   ]
  },
  {
   "cell_type": "code",
   "execution_count": 112,
   "id": "16c43750",
   "metadata": {},
   "outputs": [],
   "source": [
    "nom=\"Olivier\""
   ]
  },
  {
   "cell_type": "code",
   "execution_count": 113,
   "id": "5abc01a8",
   "metadata": {},
   "outputs": [
    {
     "data": {
      "text/plain": [
       "7"
      ]
     },
     "execution_count": 113,
     "metadata": {},
     "output_type": "execute_result"
    }
   ],
   "source": [
    "len(nom)"
   ]
  },
  {
   "cell_type": "code",
   "execution_count": 114,
   "id": "d11d0d21",
   "metadata": {},
   "outputs": [
    {
     "data": {
      "text/plain": [
       "'O'"
      ]
     },
     "execution_count": 114,
     "metadata": {},
     "output_type": "execute_result"
    }
   ],
   "source": [
    "nom[0]"
   ]
  },
  {
   "cell_type": "code",
   "execution_count": 115,
   "id": "94ac61da",
   "metadata": {},
   "outputs": [
    {
     "data": {
      "text/plain": [
       "'Oliv'"
      ]
     },
     "execution_count": 115,
     "metadata": {},
     "output_type": "execute_result"
    }
   ],
   "source": [
    "nom[:4]"
   ]
  },
  {
   "cell_type": "code",
   "execution_count": 116,
   "id": "f0dd11e1",
   "metadata": {},
   "outputs": [
    {
     "ename": "TypeError",
     "evalue": "'str' object does not support item assignment",
     "output_type": "error",
     "traceback": [
      "\u001b[1;31m---------------------------------------------------------------------------\u001b[0m",
      "\u001b[1;31mTypeError\u001b[0m                                 Traceback (most recent call last)",
      "\u001b[1;32m~\\AppData\\Local\\Temp\\ipykernel_95932\\3398974514.py\u001b[0m in \u001b[0;36m<module>\u001b[1;34m\u001b[0m\n\u001b[1;32m----> 1\u001b[1;33m \u001b[0mnom\u001b[0m\u001b[1;33m[\u001b[0m\u001b[1;36m0\u001b[0m\u001b[1;33m]\u001b[0m\u001b[1;33m=\u001b[0m\u001b[1;34m\"o\"\u001b[0m\u001b[1;33m\u001b[0m\u001b[1;33m\u001b[0m\u001b[0m\n\u001b[0m",
      "\u001b[1;31mTypeError\u001b[0m: 'str' object does not support item assignment"
     ]
    }
   ],
   "source": [
    "nom[0]=\"o\""
   ]
  },
  {
   "cell_type": "code",
   "execution_count": 117,
   "id": "239a759b",
   "metadata": {},
   "outputs": [
    {
     "data": {
      "text/plain": [
       "'Olivier'"
      ]
     },
     "execution_count": 117,
     "metadata": {},
     "output_type": "execute_result"
    }
   ],
   "source": [
    "nom"
   ]
  },
  {
   "cell_type": "code",
   "execution_count": 119,
   "id": "57aa2de7",
   "metadata": {},
   "outputs": [
    {
     "data": {
      "text/plain": [
       "'Olivier Robert'"
      ]
     },
     "execution_count": 119,
     "metadata": {},
     "output_type": "execute_result"
    }
   ],
   "source": [
    "nom+\" Robert\""
   ]
  },
  {
   "cell_type": "code",
   "execution_count": 120,
   "id": "a1405b8b",
   "metadata": {},
   "outputs": [
    {
     "data": {
      "text/plain": [
       "'bonjour à toi'"
      ]
     },
     "execution_count": 120,
     "metadata": {},
     "output_type": "execute_result"
    }
   ],
   "source": [
    "\"bonjour \"+\"à toi\""
   ]
  },
  {
   "cell_type": "code",
   "execution_count": 121,
   "id": "828e6fd0",
   "metadata": {},
   "outputs": [],
   "source": [
    "bootcamp='data science'"
   ]
  },
  {
   "cell_type": "code",
   "execution_count": 122,
   "id": "7f95881d",
   "metadata": {},
   "outputs": [
    {
     "data": {
      "text/plain": [
       "'Data Science'"
      ]
     },
     "execution_count": 122,
     "metadata": {},
     "output_type": "execute_result"
    }
   ],
   "source": [
    "bootcamp.title()"
   ]
  },
  {
   "cell_type": "code",
   "execution_count": 123,
   "id": "a2726d49",
   "metadata": {},
   "outputs": [
    {
     "data": {
      "text/plain": [
       "'data science'"
      ]
     },
     "execution_count": 123,
     "metadata": {},
     "output_type": "execute_result"
    }
   ],
   "source": [
    "bootcamp.lower()"
   ]
  },
  {
   "cell_type": "code",
   "execution_count": 124,
   "id": "c439e6c0",
   "metadata": {},
   "outputs": [
    {
     "data": {
      "text/plain": [
       "'DATA SCIENCE'"
      ]
     },
     "execution_count": 124,
     "metadata": {},
     "output_type": "execute_result"
    }
   ],
   "source": [
    "bootcamp.upper()"
   ]
  },
  {
   "cell_type": "code",
   "execution_count": 125,
   "id": "a52e5946",
   "metadata": {},
   "outputs": [
    {
     "data": {
      "text/plain": [
       "2"
      ]
     },
     "execution_count": 125,
     "metadata": {},
     "output_type": "execute_result"
    }
   ],
   "source": [
    "bootcamp.count('a')"
   ]
  },
  {
   "cell_type": "code",
   "execution_count": 126,
   "id": "85349d15",
   "metadata": {},
   "outputs": [],
   "source": [
    "nom=\"Robert\"\n",
    "prenom=\"Olivier\"\n",
    "age=26"
   ]
  },
  {
   "cell_type": "code",
   "execution_count": 127,
   "id": "a3c7bf8e",
   "metadata": {},
   "outputs": [],
   "source": [
    "message=f\"Je suis {prenom} {nom} et j'ai {age} ans\""
   ]
  },
  {
   "cell_type": "code",
   "execution_count": 128,
   "id": "053a0e0c",
   "metadata": {},
   "outputs": [
    {
     "name": "stdout",
     "output_type": "stream",
     "text": [
      "Je suis Olivier Robert et j'ai 26 ans\n"
     ]
    }
   ],
   "source": [
    "print(message)"
   ]
  },
  {
   "cell_type": "code",
   "execution_count": null,
   "id": "3e945dd6",
   "metadata": {},
   "outputs": [],
   "source": []
  }
 ],
 "metadata": {
  "kernelspec": {
   "display_name": "Python 3 (ipykernel)",
   "language": "python",
   "name": "python3"
  },
  "language_info": {
   "codemirror_mode": {
    "name": "ipython",
    "version": 3
   },
   "file_extension": ".py",
   "mimetype": "text/x-python",
   "name": "python",
   "nbconvert_exporter": "python",
   "pygments_lexer": "ipython3",
   "version": "3.9.13"
  }
 },
 "nbformat": 4,
 "nbformat_minor": 5
}
